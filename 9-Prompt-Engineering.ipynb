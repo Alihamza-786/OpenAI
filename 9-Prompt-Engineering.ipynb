{
 "cells": [
  {
   "cell_type": "markdown",
   "id": "f1df91f0-cac3-471d-8fbc-ef7c71f9ea98",
   "metadata": {},
   "source": [
    "# Prompt engineering\n",
    "The process of crafting prompts to get the right output from a model is called prompt engineering."
   ]
  },
  {
   "cell_type": "code",
   "execution_count": null,
   "id": "537054b7-da00-453c-91a8-9224bf6a30be",
   "metadata": {},
   "outputs": [],
   "source": [
    "const response = await openai.chat.completions.create({\n",
    "  model: \"gpt-4o\",\n",
    "  messages: [\n",
    "    {\n",
    "      \"role\": \"developer\",\n",
    "      \"content\": [\n",
    "        {\n",
    "          \"type\": \"text\",\n",
    "          \"text\": `\n",
    "            You are a helpful assistant that answers programming \n",
    "            questions in the style of a southern belle from the \n",
    "            southeast United States.\n",
    "          `\n",
    "        }\n",
    "      ]\n",
    "    },\n",
    "    {\n",
    "      \"role\": \"user\",\n",
    "      \"content\": [\n",
    "        {\n",
    "          \"type\": \"text\",\n",
    "          \"text\": \"Are semicolons optional in JavaScript?\"\n",
    "        }\n",
    "      ]\n",
    "    }\n",
    "  ],\n",
    "  store: true,\n",
    "});"
   ]
  },
  {
   "cell_type": "markdown",
   "id": "5f02a17d-06a2-44d4-9f39-eb57d6028af6",
   "metadata": {},
   "source": [
    "#### This prompt returns a text output in the rhetorical style requested:"
   ]
  },
  {
   "cell_type": "markdown",
   "id": "7e128daa-04f5-4c49-b58c-34a482d653f8",
   "metadata": {},
   "source": [
    "Well, sugar, that's a fine question you've got there! Now, in the \n",
    "world of JavaScript, semicolons are indeed a bit like the pearls \n",
    "on a necklace – you might slip by without 'em, but you sure do look \n",
    "more polished with 'em in place. \n",
    "\n",
    "Technically, JavaScript has this little thing called \"automatic \n",
    "semicolon insertion\" where it kindly adds semicolons for you \n",
    "where it thinks they oughta go. However, it's not always perfect, \n",
    "bless its heart. Sometimes, it might get a tad confused and cause \n",
    "all sorts of unexpected behavior.\n"
   ]
  },
  {
   "cell_type": "markdown",
   "id": "abcfcac0-f5e1-4d5c-958b-d9c4942ddda2",
   "metadata": {},
   "source": [
    "## Giving the model additional data to use for generation\n",
    "You can also use the message types above to provide additional information to the model, outside of its training data. You might want to include the results of a database query, a text document, or other resources to help the model generate a relevant response. This technique is often referred to as retrieval augmented generation, or RAG. "
   ]
  },
  {
   "cell_type": "markdown",
   "id": "c0bc1fbd-2c63-4f8a-a061-d33a4ea33470",
   "metadata": {},
   "source": [
    "## Six strategies for getting better results"
   ]
  },
  {
   "cell_type": "markdown",
   "id": "9db64faf-7c51-46c0-9622-1ca26f4fd56f",
   "metadata": {},
   "source": [
    "### Write clear instructions\n",
    "These models can’t read your mind. If outputs are too long, ask for brief replies. If outputs are too simple, ask for expert-level writing. If you dislike the format, demonstrate the format you’d like to see. The less the model has to guess at what you want, the more likely you’ll get it.\n",
    "- Include details in your query to get more relevant answers\n",
    "- Ask the model to adopt a persona\n",
    "- Use delimiters to clearly indicate distinct parts of the input\n",
    "- Specify the steps required to complete a task\n",
    "- Provide examples\n",
    "- Specify the desired length of the output"
   ]
  },
  {
   "cell_type": "markdown",
   "id": "d68fc861-e20f-461e-8e06-8d7e1c826471",
   "metadata": {},
   "source": [
    "### Provide reference text\n",
    "Language models can confidently invent fake answers, especially when asked about esoteric topics or for citations and URLs. In the same way that a sheet of notes can help a student do better on a test, providing reference text to these models can help in answering with fewer fabrications.\n",
    "\n",
    "Tactics:\n",
    "\n",
    "- Instruct the model to answer using a reference text\n",
    "- Instruct the model to answer with citations from a reference text"
   ]
  },
  {
   "cell_type": "markdown",
   "id": "6b2f671f-313b-44fe-899d-c0135f9687b1",
   "metadata": {},
   "source": [
    "### Split complex tasks into simpler subtasks\n",
    "Just as it is good practice in software engineering to decompose a complex system into a set of modular components, the same is true of tasks submitted to a language model. Complex tasks tend to have higher error rates than simpler tasks. Furthermore, complex tasks can often be re-defined as a workflow of simpler tasks in which the outputs of earlier tasks are used to construct the inputs to later tasks.\n",
    "\n",
    "Tactics:\n",
    "\n",
    "- Use intent classification to identify the most relevant instructions for a user query\n",
    "- For dialogue applications that require very long conversations, summarize or filter previous dialogue\n",
    "- Summarize long documents piecewise and construct a full summary recursively"
   ]
  },
  {
   "cell_type": "markdown",
   "id": "7b5f3f4c-9a3c-485f-959f-7c929914402e",
   "metadata": {},
   "source": [
    "### Give the model time to \"think\"\n",
    "If asked to multiply 17 by 28, you might not know it instantly, but can still work it out with time. Similarly, models make more reasoning errors when trying to answer right away, rather than taking time to work out an answer. Asking for a \"chain of thought\" before an answer can help the model reason its way toward correct answers more reliably.\n",
    "\n",
    "Tactics:\n",
    "\n",
    "- Instruct the model to work out its own solution before rushing to a conclusion\n",
    "- Use inner monologue or a sequence of queries to hide the model's reasoning process\n",
    "- Ask the model if it missed anything on previous passes"
   ]
  },
  {
   "cell_type": "markdown",
   "id": "8bb39f44-f945-4fc8-9f77-63b42e1f4d12",
   "metadata": {},
   "source": [
    "### Give the model time to \"think\"\n",
    "If asked to multiply 17 by 28, you might not know it instantly, but can still work it out with time. Similarly, models make more reasoning errors when trying to answer right away, rather than taking time to work out an answer. Asking for a \"chain of thought\" before an answer can help the model reason its way toward correct answers more reliably.\n",
    "\n",
    "Tactics:\n",
    "\n",
    "- Instruct the model to work out its own solution before rushing to a conclusion\n",
    "- Use inner monologue or a sequence of queries to hide the model's reasoning process\n",
    "- Ask the model if it missed anything on previous passes"
   ]
  },
  {
   "cell_type": "markdown",
   "id": "03c25272-72db-44ba-b5e3-679025d5920d",
   "metadata": {},
   "source": [
    "### Use external tools\n",
    "Compensate for the weaknesses of the model by feeding it the outputs of other tools. For example, __a text retrieval system (sometimes called RAG or retrieval augmented generation)__ can tell the model about relevant documents. A code execution engine like __OpenAI's Code Interpreter__ can help the model do math and run code. If a task can be done more reliably or efficiently by a tool rather than by a language model, offload it to get the best of both.\n",
    "\n",
    "Tactics:\n",
    "\n",
    "- Use embeddings-based search to implement efficient knowledge retrieval\n",
    "- Use code execution to perform more accurate calculations or call external APIs\n",
    "- Give the model access to specific functions"
   ]
  },
  {
   "cell_type": "markdown",
   "id": "204626de-dca6-4e69-be42-1f2a7ebfdcdf",
   "metadata": {},
   "source": [
    "### Test changes systematically\n",
    "Improving performance is easier if you can measure it. In some cases a modification to a prompt will achieve better performance on a few isolated examples but lead to worse overall performance on a more representative set of examples. Therefore to be sure that a change is net positive to performance it may be necessary to define a comprehensive test suite (also known an as an \"eval\").\n",
    "\n",
    "Tactic:\n",
    "\n",
    "- Evaluate model outputs with reference to gold-standard answers"
   ]
  },
  {
   "cell_type": "markdown",
   "id": "6ab82dab-d21b-4b1f-8d4c-c1866abacb62",
   "metadata": {},
   "source": [
    "## Tactics\n",
    "Each of the strategies listed above can be instantiated with specific tactics. These tactics are meant to provide ideas for things to try. They are by no means fully comprehensive, and you should feel free to try creative ideas not represented here.\n",
    "\n",
    "### Strategy: Write clear instructions\n",
    "#### Tactic: Include details in your query to get more relevant answers\n",
    "In order to get a highly relevant response, make sure that requests provide any important details or context. Otherwise you are leaving it up to the model to guess what you mean.\n",
    "\n",
    "### Worse                           \n",
    "- How do I add numbers in Excel? \n",
    "- Who’s president?\n",
    "- Write code to calculate the Fibonacci sequence.\n",
    "- Summarize the meeting notes.\n",
    "\n",
    "### Better\n",
    "- How do I add up a row of dollar amounts in Excel? I want to do this automatically for a whole sheet of rows with all the totals ending up on the right in a column called \"Total\".\n",
    "\n",
    "- Who’s president?\tWho was the president of Mexico in 2021, and how frequently are elections held?\n",
    "\n",
    "- Write code to calculate the Fibonacci sequence.\tWrite a TypeScript function to efficiently calculate the Fibonacci sequence. Comment the code liberally to explain what each piece does and why it's written that way.\n",
    "\n",
    "- Summarize the meeting notes.\tSummarize the meeting notes in a single paragraph. Then write a markdown list of the speakers and each of their key points. Finally, list the next steps or action items suggested by the speakers, if any."
   ]
  },
  {
   "cell_type": "markdown",
   "id": "42d8e4f4-9ea4-499d-95c0-ab38fdc45906",
   "metadata": {},
   "source": [
    "### Tactic: Ask the model to adopt a persona\n",
    "SYSTEM\n",
    "\n",
    "When I ask for help to write something, you will reply with a document that contains at least one joke or playful comment in every paragraph.\n",
    "\n",
    "USER\n",
    "\n",
    "Write a thank you note to my steel bolt vendor for getting the delivery in on time and in short notice. This made it possible for us to deliver an important order.\n"
   ]
  },
  {
   "cell_type": "markdown",
   "id": "7185d0b8-c90f-4243-a124-95a417fbaf10",
   "metadata": {},
   "source": [
    "SYSTEM\n",
    "\n",
    "You are a highly capable, thoughtful, and precise assistant. Your goal is to deeply understand the user's intent, ask clarifying questions when needed, think step-by-step through complex problems, provide clear and accurate answers, and proactively anticipate helpful follow-up information. Always prioritize being truthful, nuanced, insightful, and efficient, tailoring your responses specifically to the user's needs and preferences."
   ]
  },
  {
   "cell_type": "markdown",
   "id": "8b543b2a-773c-452f-9c81-d539d72058a7",
   "metadata": {},
   "source": [
    "### Tactic: Use delimiters to clearly indicate distinct parts of the input"
   ]
  },
  {
   "cell_type": "code",
   "execution_count": null,
   "id": "4696e0ed-db4b-4e1c-b3d9-2881aa90a91e",
   "metadata": {},
   "outputs": [],
   "source": [
    "\n",
    "Delimiters like triple quotation marks, XML tags, section titles, etc. can help demarcate sections of text to be treated differently.\n",
    "USER\n",
    "Summarize the text delimited by triple quotes with a haiku.\n",
    "\n",
    "\"\"\"insert text here\"\"\"\n",
    "\n",
    "SYSTEM\n",
    "You will be provided with a pair of articles (delimited with XML tags) about the same topic. First summarize the arguments of each article. Then indicate which of them makes a better argument and explain why.\n",
    "USER\n",
    "<article> insert first article here </article>\n",
    "\n",
    "<article> insert second article here </article>\n",
    "\n",
    "SYSTEM\n",
    "You will be provided with a thesis abstract and a suggested title for it. The thesis title should give the reader a good idea of the topic of the thesis but should also be eye-catching. If the title does not meet these criteria, suggest 5 alternatives.\n",
    "USER\n",
    "Abstract: insert abstract here\n",
    "\n",
    "Title: insert title here\n",
    "\n"
   ]
  },
  {
   "cell_type": "markdown",
   "id": "9402bde5-609d-48a3-b9d1-5e6bcad6a134",
   "metadata": {},
   "source": [
    "### Tactic: Specify the steps required to complete a task\n",
    "SYSTEM\n",
    "Use the following step-by-step instructions to respond to user inputs.\n",
    "\n",
    "Step 1 - The user will provide you with text in triple quotes. Summarize this text in one sentence with a prefix that says \"Summary: \".\n",
    "\n",
    "Step 2 - Translate the summary from Step 1 into Spanish, with a prefix that says \"Translation: \".\n",
    "USER\n",
    "\"\"\"insert text here\"\"\""
   ]
  },
  {
   "cell_type": "markdown",
   "id": "5b6d6dd0-3593-4d3f-9323-43ac468c4ab8",
   "metadata": {},
   "source": [
    "### Tactic: Provide examples\n",
    "Providing general instructions that apply to all examples is generally more efficient than demonstrating all permutations of a task by example, but in some cases providing examples may be easier. For example, if you intend for the model to copy a particular style of responding to user queries which is difficult to describe explicitly. This is known as \"few-shot\" prompting.\n",
    "\n",
    "SYSTEM\n",
    "\n",
    "Answer in a consistent style.\n",
    "\n",
    "USER\n",
    "\n",
    "Teach me about patience.\n",
    "\n",
    "ASSISTANT\n",
    "\n",
    "The river that carves the deepest valley flows from a modest spring; the grandest symphony originates from a single note; the most intricate tapestry begins with a solitary thread.\n",
    "\n",
    "USER\n",
    "\n",
    "Teach me about the ocean."
   ]
  },
  {
   "cell_type": "markdown",
   "id": "f8ef5b41-82aa-4226-b937-c8b098ddc3ec",
   "metadata": {},
   "source": [
    "### Tactic: Specify the desired length of the output\n",
    "\n",
    "You can ask the model to produce outputs that are of a given target length. The targeted output length can be specified in terms of the count of words, sentences, paragraphs, bullet points, etc. Note however that instructing the model to generate a specific number of words does not work with high precision. The model can more reliably generate outputs with a specific number of paragraphs or bullet points."
   ]
  },
  {
   "cell_type": "code",
   "execution_count": null,
   "id": "247015f5-f9ba-4f7e-98fb-f7d178f7d4ab",
   "metadata": {},
   "outputs": [],
   "source": [
    "USER\n",
    "Summarize the text delimited by triple quotes in about 50 words.\n",
    "\n",
    "\"\"\"insert text here\"\"\"\n",
    "\n",
    "USER\n",
    "Summarize the text delimited by triple quotes in 2 paragraphs.\n",
    "\n",
    "\"\"\"insert text here\"\"\"\n",
    "\n",
    "USER\n",
    "Summarize the text delimited by triple quotes in 3 bullet points.\n",
    "\n",
    "\"\"\"insert text here\"\"\""
   ]
  },
  {
   "cell_type": "markdown",
   "id": "afd5549e-af4f-49a4-a069-572a59295f3a",
   "metadata": {},
   "source": [
    "### Strategy: Provide reference text\n",
    "Tactic: Instruct the model to answer using a reference text\n",
    "If we can provide a model with trusted information that is relevant to the current query, then we can instruct the model to use the provided information to compose its answer."
   ]
  },
  {
   "cell_type": "code",
   "execution_count": null,
   "id": "903d62b9-ddec-43cd-844a-42545671164b",
   "metadata": {},
   "outputs": [],
   "source": [
    "SYSTEM   Use the provided articles delimited by triple quotes to answer questions. If the answer cannot be found in the articles, write \"I could not find an answer.\"\n",
    "USER     <insert articles, each delimited by triple quotes>\n",
    "\n",
    "Question: <insert question here>"
   ]
  },
  {
   "cell_type": "markdown",
   "id": "8098566e-e48b-42e5-a0bb-d0303687e32e",
   "metadata": {},
   "source": [
    "### Tactic: Instruct the model to answer with citations from a reference text\n",
    "If the input has been supplemented with relevant knowledge, it's straightforward to request that the model add citations to its answers by referencing passages from provided documents. Note that citations in the output can then be verified programmatically by string matching within the provided documents."
   ]
  },
  {
   "cell_type": "markdown",
   "id": "af1343ee-7fee-4f98-8aa2-ddc86d705e24",
   "metadata": {},
   "source": [
    "SYSTEM\n",
    "You will be provided with a document delimited by triple quotes and a question. Your task is to answer the question using only the provided document and to cite the passage(s) of the document used to answer the question. If the document does not contain the information needed to answer this question then simply write: \"Insufficient information.\" If an answer to the question is provided, it must be annotated with a citation. Use the following format for to cite relevant passages ({\"citation\": …}).\n",
    "USER\n",
    "\"\"\"<insert document here>\"\"\"\n",
    "Question: <insert question here>\n"
   ]
  },
  {
   "cell_type": "markdown",
   "id": "6cf3455a-2dbf-4ab7-b12d-5743f598e2c8",
   "metadata": {},
   "source": [
    "### Strategy: Split complex tasks into simpler subtasks\n",
    "Tactic: Use intent classification to identify the most relevant instructions for a user query\n"
   ]
  },
  {
   "cell_type": "code",
   "execution_count": null,
   "id": "2cb48531-6e97-41b8-8877-e9076f3cdc18",
   "metadata": {},
   "outputs": [],
   "source": [
    "SYSTEM\n",
    "You will be provided with customer service queries. Classify each query into a primary category and a secondary category. Provide your output in json format with the keys: primary and secondary.\n",
    "\n",
    "Primary categories: Billing, Technical Support, Account Management, or General Inquiry.\n",
    "\n",
    "Billing secondary categories:\n",
    "- Unsubscribe or upgrade\n",
    "- Add a payment method\n",
    "- Explanation for charge\n",
    "- Dispute a charge\n",
    "\n",
    "Technical Support secondary categories:\n",
    "- Troubleshooting\n",
    "- Device compatibility\n",
    "- Software updates\n",
    "\n",
    "Account Management secondary categories:\n",
    "- Password reset\n",
    "- Update personal information\n",
    "- Close account\n",
    "- Account security\n",
    "\n",
    "General Inquiry secondary categories:\n",
    "- Product information\n",
    "- Pricing\n",
    "- Feedback\n",
    "- Speak to a human\n",
    "USER\n",
    "I need to get my internet working again."
   ]
  },
  {
   "cell_type": "markdown",
   "id": "b5bec133-0a47-46bd-bac9-17753cf46ceb",
   "metadata": {},
   "source": [
    "Based on the classification of the customer query, a set of more specific instructions can be provided to a model for it to handle next steps. For example, suppose the customer requires help with \"troubleshooting\"."
   ]
  },
  {
   "cell_type": "code",
   "execution_count": null,
   "id": "89439d2e-ab4c-4958-b7c7-6d0cfccf5634",
   "metadata": {},
   "outputs": [],
   "source": [
    "SYSTEM\n",
    "You will be provided with customer service inquiries that require troubleshooting in a technical support context. Help the user by:\n",
    "\n",
    "- Ask them to check that all cables to/from the router are connected. Note that it is common for cables to come loose over time.\n",
    "- If all cables are connected and the issue persists, ask them which router model they are using\n",
    "- Now you will advise them how to restart their device:\n",
    "-- If the model number is MTD-327J, advise them to push the red button and hold it for 5 seconds, then wait 5 minutes before testing the connection.\n",
    "-- If the model number is MTD-327S, advise them to unplug and replug it, then wait 5 minutes before testing the connection.\n",
    "- If the customer's issue persists after restarting the device and waiting 5 minutes, connect them to IT support by outputting {\"IT support requested\"}.\n",
    "- If the user starts asking questions that are unrelated to this topic then confirm if they would like to end the current chat about troubleshooting and classify their request according to the following scheme:\n",
    "\n",
    "<insert primary/secondary classification scheme from above here>\n",
    "USER\n",
    "I need to get my internet working again."
   ]
  },
  {
   "cell_type": "markdown",
   "id": "6bf2aa91-f7c7-44af-ac7b-f521520cae4b",
   "metadata": {},
   "source": [
    "### Strategy: Give models time to \"think\"\n",
    "Tactic: Instruct the model to work out its own solution before rushing to a conclusion\n",
    "Sometimes we get better results when we explicitly instruct the model to reason from first principles before coming to a conclusion. Suppose for example we want a model to evaluate a student’s solution to a math problem. The most obvious way to approach this is to simply ask the model if the student's solution is correct or not."
   ]
  },
  {
   "cell_type": "code",
   "execution_count": null,
   "id": "69372ed6-b025-4086-9618-d6ad071601b8",
   "metadata": {},
   "outputs": [],
   "source": [
    "SYSTEM\n",
    "Determine if the student's solution is correct or not.\n",
    "USER\n",
    "Problem Statement: I'm building a solar power installation and I need help working out the financials.\n",
    "- Land costs $100 / square foot\n",
    "- I can buy solar panels for $250 / square foot\n",
    "- I negotiated a contract for maintenance that will cost me a flat $100k per year, and an additional $10 / square foot\n",
    "What is the total cost for the first year of operations as a function of the number of square feet.\n",
    "\n",
    "Student's Solution: Let x be the size of the installation in square feet.\n",
    "1. Land cost: 100x\n",
    "2. Solar panel cost: 250x\n",
    "3. Maintenance cost: 100,000 + 100x\n",
    "Total cost: 100x + 250x + 100,000 + 100x = 450x + 100,000\n",
    "ASSISTANT\n",
    "The student's solution is correct."
   ]
  },
  {
   "cell_type": "markdown",
   "id": "7fa8498f-2584-4c22-95a7-38998a91a948",
   "metadata": {},
   "source": [
    "But the student's solution is actually not correct! We can get the model to successfully notice this by prompting the model to generate its own solution first."
   ]
  },
  {
   "cell_type": "markdown",
   "id": "a7b3cf43-7e4f-48de-9d23-7af391fc073f",
   "metadata": {},
   "source": [
    "SYSTEM\n",
    "First work out your own solution to the problem. Then compare your solution to the student's solution and evaluate if the student's solution is correct or not. Don't decide if the student's solution is correct until you have done the problem yourself.\n",
    "USER\n",
    "Problem Statement: I'm building a solar power installation and I need help working out the financials.\n",
    "- Land costs $100 / square foot\n",
    "- I can buy solar panels for $250 / square foot\n",
    "- I negotiated a contract for maintenance that will cost me a flat $100k per year, and an additional $10 / square foot\n",
    "What is the total cost for the first year of operations as a function of the number of square feet.\n",
    "\n",
    "Student's Solution: Let x be the size of the installation in square feet.\n",
    "1. Land cost: 100x\n",
    "2. Solar panel cost: 250x\n",
    "3. Maintenance cost: 100,000 + 100x\n",
    "Total cost: 100x + 250x + 100,000 + 100x = 450x + 100,000\n",
    "ASSISTANT\n",
    "Let x be the size of the installation in square feet.\n",
    "1. Land cost: 100x\n",
    "2. Solar panel cost: 250x\n",
    "3. Maintenance cost: 100,000 + 10x\n",
    "Total cost: 100x + 250x + 100,000 + 10x = 360x + 100,000\n",
    "\n",
    "The student's solution is incorrect. They made an error in the maintenance cost calculation, using 100x instead of 10x. The correct total cost for the first year of operations is 360x + 100,000."
   ]
  },
  {
   "cell_type": "code",
   "execution_count": null,
   "id": "f895565a-80d1-4557-8eda-067dee376d11",
   "metadata": {},
   "outputs": [],
   "source": []
  }
 ],
 "metadata": {
  "kernelspec": {
   "display_name": "Python 3 (ipykernel)",
   "language": "python",
   "name": "python3"
  },
  "language_info": {
   "codemirror_mode": {
    "name": "ipython",
    "version": 3
   },
   "file_extension": ".py",
   "mimetype": "text/x-python",
   "name": "python",
   "nbconvert_exporter": "python",
   "pygments_lexer": "ipython3",
   "version": "3.8.20"
  }
 },
 "nbformat": 4,
 "nbformat_minor": 5
}
