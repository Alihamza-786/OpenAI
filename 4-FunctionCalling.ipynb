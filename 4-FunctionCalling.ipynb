{
 "cells": [
  {
   "cell_type": "markdown",
   "id": "5e7cb9fa-0e2f-4769-8f81-6655453dd065",
   "metadata": {},
   "source": [
    "## Function calling\n",
    "Enable models to fetch data and take actions.\n",
    "Function calling provides a powerful and flexible way for OpenAI models to interface with your code or external services, and has two primary use cases:\n",
    "\n",
    "- __Fetching Data:__\tRetrieve up-to-date information to incorporate into the model's response (RAG). Useful for searching knowledge bases and retrieving specific data from APIs (e.g. current weather data).\n",
    "\n",
    "- __Taking Action:__\tPerform actions like submitting a form, calling APIs, modifying application state (UI/frontend or backend), or taking agentic workflow actions (like handing off the conversation)."
   ]
  },
  {
   "cell_type": "markdown",
   "id": "d0ce0eea-9627-487c-8a4b-42c10f208a36",
   "metadata": {},
   "source": [
    "### What is tools in the OpenAI API?\n",
    "The tools parameter allows you to define custom functions that the OpenAI model can \"call\" when it recognizes a relevant request. It acts like an API function handler, where the model detects when a function should be executed and returns the required parameters.\n",
    "### Why Specify tools?\n",
    "- __Extend OpenAI's capabilities →__ Instead of just generating text, the model can call functions to fetch external data (e.g., weather, database info, API results).\n",
    "- __Control Outputs →__ Ensures the response follows a structured format instead of free text.\n",
    "- __Integrate with Other Services →__ The model doesn’t know real-time data (like live weather), but it can call functions to fetch it."
   ]
  },
  {
   "cell_type": "markdown",
   "id": "09824d26-8d83-4977-805b-29a4df1b6fa5",
   "metadata": {},
   "source": [
    "### Get Weather\n",
    "Function calling example with get_weather function"
   ]
  },
  {
   "cell_type": "markdown",
   "id": "4bc35c45-0ea7-4732-bec7-dda137535aa5",
   "metadata": {},
   "source": [
    "### Standard Format of a Tool Defination"
   ]
  },
  {
   "cell_type": "raw",
   "id": "4b8fdfd5-e0ef-4e8b-bfc9-a93c056c0697",
   "metadata": {},
   "source": [
    "Every function inside tools follows this standard format:\n",
    "{\n",
    "    \"type\": \"function\",\n",
    "    \"function\": {\n",
    "        \"name\": \"function_name\",\n",
    "        \"description\": \"What this function does\",\n",
    "        \"parameters\": {\n",
    "            \"type\": \"object\", # Specifies that the parameters are structured as key-value pairs\n",
    "            \"properties\": {   # properties is an object inside parameters that defines all the possible parameters a function can take.\n",
    "                \"parameter_name\": {   \n",
    "                    \"type\": \"data type\",\n",
    "                    \"description\": \"What this parameter is for\"\n",
    "                }\n",
    "            },\n",
    "            \"required\": [\"parameter_name\"]\n",
    "        }\n",
    "    }\n",
    "}\n"
   ]
  },
  {
   "cell_type": "code",
   "execution_count": null,
   "id": "97f4e276-8015-4616-a99c-1f4a86afa06a",
   "metadata": {},
   "outputs": [],
   "source": [
    "\n",
    "from openai import OpenAI\n",
    "\n",
    "client = OpenAI()\n",
    "\n",
    "tools = [{\n",
    "    \"type\": \"function\",\n",
    "    \"function\": {\n",
    "        \"name\": \"get_weather\",\n",
    "        \"description\": \"Get current temperature for a given location.\",\n",
    "        \"parameters\": { # Expected input parameters\n",
    "            \"type\": \"object\",\n",
    "            \"properties\": { # Defines function arguments\n",
    "                \"location\": {\n",
    "                    \"type\": \"string\", # The function expects a string input\n",
    "                    \"description\": \"City and country e.g. Bogotá, Colombia\"\n",
    "                }\n",
    "            },\n",
    "            \"required\": [\n",
    "                \"location\"\n",
    "            ],\n",
    "            \"additionalProperties\": False\n",
    "        },\n",
    "        \"strict\": True # Enforces strict type validation\n",
    "    }\n",
    "}]\n",
    "\n",
    "completion = client.chat.completions.create(\n",
    "    model=\"gpt-4o\",\n",
    "    messages=[{\"role\": \"user\", \"content\": \"What is the weather like in Paris today?\"}],\n",
    "    tools=tools\n",
    ")\n",
    "\n",
    "print(completion.choices[0].message.tool_calls)"
   ]
  },
  {
   "cell_type": "code",
   "execution_count": null,
   "id": "876570ed-9d1f-499a-a889-c25c29569660",
   "metadata": {},
   "outputs": [],
   "source": [
    "[{\n",
    "    \"id\": \"call_12345xyz\",\n",
    "    \"type\": \"function\",\n",
    "    \"function\": {\n",
    "        \"name\": \"get_weather\",\n",
    "        \"arguments\": \"{\\\"location\\\":\\\"Paris, France\\\"}\"\n",
    "    }\n",
    "}]"
   ]
  },
  {
   "cell_type": "markdown",
   "id": "5d3cbe38-deec-494c-8328-2e698d286995",
   "metadata": {},
   "source": [
    "### Send Email\n",
    "Function calling example with send_email function"
   ]
  },
  {
   "cell_type": "code",
   "execution_count": null,
   "id": "3e96af78-f656-4ed8-8601-8aa79c53c132",
   "metadata": {},
   "outputs": [],
   "source": [
    "from openai import OpenAI\n",
    "\n",
    "client = OpenAI()\n",
    "\n",
    "tools = [{\n",
    "    \"type\": \"function\",\n",
    "    \"function\": {\n",
    "        \"name\": \"send_email\",\n",
    "        \"description\": \"Send an email to a given recipient with a subject and message.\",\n",
    "        \"parameters\": {\n",
    "            \"type\": \"object\",\n",
    "            \"properties\": {\n",
    "                \"to\": {\n",
    "                    \"type\": \"string\",\n",
    "                    \"description\": \"The recipient email address.\"\n",
    "                },\n",
    "                \"subject\": {\n",
    "                    \"type\": \"string\",\n",
    "                    \"description\": \"Email subject line.\"\n",
    "                },\n",
    "                \"body\": {\n",
    "                    \"type\": \"string\",\n",
    "                    \"description\": \"Body of the email message.\"\n",
    "                }\n",
    "            },\n",
    "            \"required\": [\n",
    "                \"to\",\n",
    "                \"subject\",\n",
    "                \"body\"\n",
    "            ],\n",
    "            \"additionalProperties\": False\n",
    "        },\n",
    "        \"strict\": True\n",
    "    }\n",
    "}]\n",
    "\n",
    "completion = client.chat.completions.create(\n",
    "    model=\"gpt-4o\",\n",
    "    messages=[{\"role\": \"user\", \"content\": \"Can you send an email to ilan@example.com and katia@example.com saying hi?\"}],\n",
    "    tools=tools\n",
    ")\n",
    "\n",
    "print(completion.choices[0].message.tool_calls)"
   ]
  },
  {
   "cell_type": "code",
   "execution_count": null,
   "id": "5cc28a2f-6769-4e53-8690-2cad74298fe3",
   "metadata": {},
   "outputs": [],
   "source": [
    "[\n",
    "    {\n",
    "        \"id\": \"call_9876abc\",\n",
    "        \"type\": \"function\",\n",
    "        \"function\": {\n",
    "            \"name\": \"send_email\",\n",
    "            \"arguments\": \"{\\\"to\\\":\\\"ilan@example.com\\\",\\\"subject\\\":\\\"Hello!\\\",\\\"body\\\":\\\"Just wanted to say hi\\\"}\"\n",
    "        }\n",
    "    },\n",
    "    {\n",
    "        \"id\": \"call_9876abc\",\n",
    "        \"type\": \"function\",\n",
    "        \"function\": {\n",
    "            \"name\": \"send_email\",\n",
    "            \"arguments\": \"{\\\"to\\\":\\\"katia@example.com\\\",\\\"subject\\\":\\\"Hello!\\\",\\\"body\\\":\\\"Just wanted to say hi\\\"}\"\n",
    "        }\n",
    "    }\n",
    "]"
   ]
  },
  {
   "cell_type": "markdown",
   "id": "5528065f-dd82-4458-ae24-abcd612127f4",
   "metadata": {},
   "source": [
    "### Search Knowledge Base\n",
    "Function calling example with search_knowledge_base function"
   ]
  },
  {
   "cell_type": "code",
   "execution_count": null,
   "id": "38e446cd-0e73-43a5-bc3c-d3755fa08540",
   "metadata": {},
   "outputs": [],
   "source": [
    "from openai import OpenAI\n",
    "\n",
    "client = OpenAI()\n",
    "\n",
    "tools = [{\n",
    "    \"type\": \"function\",\n",
    "    \"function\": {\n",
    "        \"name\": \"search_knowledge_base\",\n",
    "        \"description\": \"Query a knowledge base to retrieve relevant info on a topic.\",\n",
    "        \"parameters\": {\n",
    "            \"type\": \"object\",\n",
    "            \"properties\": {\n",
    "                \"query\": {\n",
    "                    \"type\": \"string\",\n",
    "                    \"description\": \"The user question or search query.\"\n",
    "                },\n",
    "                \"options\": {\n",
    "                    \"type\": \"object\",\n",
    "                    \"properties\": {\n",
    "                        \"num_results\": {\n",
    "                            \"type\": \"number\",\n",
    "                            \"description\": \"Number of top results to return.\"\n",
    "                        },\n",
    "                        \"domain_filter\": {\n",
    "                            \"type\": [\n",
    "                                \"string\",\n",
    "                                \"null\"\n",
    "                            ],\n",
    "                            \"description\": \"Optional domain to narrow the search (e.g. 'finance', 'medical'). Pass null if not needed.\"\n",
    "                        },\n",
    "                        \"sort_by\": {\n",
    "                            \"type\": [\n",
    "                                \"string\",\n",
    "                                \"null\"\n",
    "                            ],\n",
    "                            \"enum\": [\n",
    "                                \"relevance\",\n",
    "                                \"date\",\n",
    "                                \"popularity\",\n",
    "                                \"alphabetical\"\n",
    "                            ],\n",
    "                            \"description\": \"How to sort results. Pass null if not needed.\"\n",
    "                        }\n",
    "                    },\n",
    "                    \"required\": [\n",
    "                        \"num_results\",\n",
    "                        \"domain_filter\",\n",
    "                        \"sort_by\"\n",
    "                    ],\n",
    "                    \"additionalProperties\": False\n",
    "                }\n",
    "            },\n",
    "            \"required\": [\n",
    "                \"query\",\n",
    "                \"options\"\n",
    "            ],\n",
    "            \"additionalProperties\": False\n",
    "        },\n",
    "        \"strict\": True\n",
    "    }\n",
    "}]\n",
    "\n",
    "completion = client.chat.completions.create(\n",
    "    model=\"gpt-4o\",\n",
    "    messages=[{\"role\": \"user\", \"content\": \"Can you find information about ChatGPT in the AI knowledge base?\"}],\n",
    "    tools=tools\n",
    ")\n",
    "\n",
    "print(completion.choices[0].message.tool_calls)"
   ]
  },
  {
   "cell_type": "code",
   "execution_count": null,
   "id": "c1b06ea3-7c13-4213-b21c-6736f250b196",
   "metadata": {},
   "outputs": [],
   "source": [
    "[{\n",
    "    \"id\": \"call_4567xyz\",\n",
    "    \"type\": \"function\",\n",
    "    \"function\": {\n",
    "        \"name\": \"search_knowledge_base\",\n",
    "        \"arguments\": \"{\\\"query\\\":\\\"What is ChatGPT?\\\",\\\"options\\\":{\\\"num_results\\\":3,\\\"domain_filter\\\":null,\\\"sort_by\\\":\\\"relevance\\\"}}\"\n",
    "    }\n",
    "}]"
   ]
  },
  {
   "cell_type": "markdown",
   "id": "1616f344-76f6-45d9-a528-54f6719bb2b8",
   "metadata": {},
   "source": [
    "### Overview\n",
    "You can extend the capabilities of OpenAI models by giving them access to tools, which can have one of two forms:\n",
    "\n",
    "- __Function Calling__\tDeveloper-defined code.\n",
    "- __Hosted Tools__\t\n",
    "OpenAI-built tools. (e.g. file search, code interpreter)\n",
    "Only available in the Assistants API."
   ]
  },
  {
   "cell_type": "markdown",
   "id": "61c4347f-2ae1-4730-992c-16a1e1b88578",
   "metadata": {},
   "source": [
    "### Sample function\n",
    "Let's look at the steps to allow a model to use a real get_weather function defined below:"
   ]
  },
  {
   "cell_type": "code",
   "execution_count": null,
   "id": "d5db1a17-2b6a-4e01-94a3-c96e18d7e2b9",
   "metadata": {},
   "outputs": [],
   "source": [
    "#Sample get_weather function implemented in your codebase\n",
    "import requests\n",
    "\n",
    "def get_weather(latitude, longitude):\n",
    "    response = requests.get(f\"https://api.open-meteo.com/v1/forecast?latitude={latitude}&longitude={longitude}&current=temperature_2m,wind_speed_10m&hourly=temperature_2m,relative_humidity_2m,wind_speed_10m\")\n",
    "    data = response.json()\n",
    "    return data['current']['temperature_2m']"
   ]
  },
  {
   "cell_type": "markdown",
   "id": "304432a7-e4dc-47e7-a28a-4f65cf1fe580",
   "metadata": {},
   "source": [
    "### Function calling steps\n",
    "__1. Call model with functions defined__ – along with your system and user messages."
   ]
  },
  {
   "cell_type": "code",
   "execution_count": null,
   "id": "44acd51c-7bf9-4996-a1b3-14869429d528",
   "metadata": {},
   "outputs": [],
   "source": [
    "#Step 1: Call model with get_weather tool defined\n",
    "from openai import OpenAI\n",
    "import json\n",
    "client = OpenAI()\n",
    "tools = [{\n",
    "    \"type\": \"function\",\n",
    "    \"function\": {\n",
    "        \"name\": \"get_weather\",\n",
    "        \"description\": \"Get current temperature for provided coordinates in celsius.\",\n",
    "        \"parameters\": {\n",
    "            \"type\": \"object\",\n",
    "            \"properties\": {\n",
    "                \"latitude\": {\"type\": \"number\"},\n",
    "                \"longitude\": {\"type\": \"number\"}\n",
    "            },\n",
    "            \"required\": [\"latitude\", \"longitude\"],\n",
    "            \"additionalProperties\": False\n",
    "        },\n",
    "        \"strict\": True\n",
    "    }\n",
    "}]\n",
    "messages = [{\"role\": \"user\", \"content\": \"What's the weather like in Paris today?\"}]\n",
    "\n",
    "completion = client.chat.completions.create(\n",
    "    model = \"gpt-4o\",\n",
    "    messages = messages,\n",
    "    tools = tools\n",
    ")\n"
   ]
  },
  {
   "cell_type": "markdown",
   "id": "a6f74753-cd3f-4127-9b8a-5575111e654d",
   "metadata": {},
   "source": [
    "__2. Model decides to call function(s)__ – model returns the name and input arguments."
   ]
  },
  {
   "cell_type": "code",
   "execution_count": null,
   "id": "86902b16-3f5d-4a51-b4d8-ecb079a7a2e3",
   "metadata": {},
   "outputs": [],
   "source": [
    "[{\n",
    "    \"id\": \"call_12345xyz\",\n",
    "    \"type\": \"function\",\n",
    "    \"function\": {\n",
    "      \"name\": \"get_weather\",\n",
    "      \"arguments\": \"{\\\"latitude\\\":48.8566,\\\"longitude\\\":2.3522}\"\n",
    "    }\n",
    "}]"
   ]
  },
  {
   "cell_type": "markdown",
   "id": "1581f221-ec00-49a5-964c-7ded713fe182",
   "metadata": {},
   "source": [
    "__3. Execute function code__ – parse the model's response and handle function calls."
   ]
  },
  {
   "cell_type": "code",
   "execution_count": null,
   "id": "b508b238-e296-4736-b59d-25e5d6cab957",
   "metadata": {},
   "outputs": [],
   "source": [
    "tool_call = completion.choices[0].message.tool_calls[0]\n",
    "args = json.loads(tool_call.function.arguments)\n",
    "\n",
    "result = get_weather(args[\"latitude\"], args[\"longitude\"])"
   ]
  },
  {
   "cell_type": "markdown",
   "id": "0c90aa61-49e9-4947-9fe9-c2995dc811ff",
   "metadata": {},
   "source": [
    "__4. Supply model with results__ – so it can incorporate them into its final response."
   ]
  },
  {
   "cell_type": "code",
   "execution_count": null,
   "id": "bda2fba4-2658-43d3-8093-bf90067a5d00",
   "metadata": {},
   "outputs": [],
   "source": [
    "# Step 4: Supply result and call model again\n",
    "messages.append(completion.choices[0].message)  # append model's function call message\n",
    "messages.append({                               # append result message\n",
    "    \"role\": \"tool\",\n",
    "    \"tool_call_id\": tool_call.id,\n",
    "    \"content\": str(result)\n",
    "})\n",
    "\n",
    "completion_2 = client.chat.completions.create(\n",
    "    model=\"gpt-4o\",\n",
    "    messages=messages,\n",
    "    tools=tools,\n",
    ")"
   ]
  },
  {
   "cell_type": "markdown",
   "id": "5ad41765-d6d6-49f4-b41c-644272fab761",
   "metadata": {},
   "source": [
    "__5. Model responds__ – incorporating the result in its output."
   ]
  },
  {
   "cell_type": "code",
   "execution_count": null,
   "id": "7496ca5b-f07f-4e74-bfd8-5cfb4ecc19fd",
   "metadata": {},
   "outputs": [],
   "source": [
    "completion_2.choices[0].message.content\n",
    "\"The current temperature in Paris is 14°C (57.2°F).\""
   ]
  },
  {
   "cell_type": "markdown",
   "id": "e5285bdc-fcfb-4be2-a495-32df09c6cc2e",
   "metadata": {},
   "source": [
    "### Defining functions\n",
    "Functions can be set in the tools parameter of each API request inside a function object."
   ]
  },
  {
   "cell_type": "code",
   "execution_count": null,
   "id": "e9916764-80d4-4b63-981a-12edf9a59307",
   "metadata": {},
   "outputs": [],
   "source": [
    "#Example function schema\n",
    "{\n",
    "    \"type\": \"function\",\n",
    "    \"function\": {\n",
    "        \"name\": \"get_weather\",\n",
    "        \"description\": \"Retrieves current weather for the given location.\",\n",
    "        \"parameters\": {\n",
    "            \"type\": \"object\",\n",
    "            \"properties\": {\n",
    "                \"location\": {\n",
    "                    \"type\": \"string\",\n",
    "                    \"description\": \"City and country e.g. Bogotá, Colombia\"\n",
    "                },\n",
    "                \"units\": {\n",
    "                    \"type\": \"string\",\n",
    "                    \"enum\": [\n",
    "                        \"celsius\",\n",
    "                        \"fahrenheit\"\n",
    "                    ],\n",
    "                    \"description\": \"Units the temperature will be returned in.\"\n",
    "                }\n",
    "            },\n",
    "            \"required\": [\n",
    "                \"location\",\n",
    "                \"units\"\n",
    "            ],\n",
    "            \"additionalProperties\": false\n",
    "        },\n",
    "        \"strict\": true\n",
    "    }\n",
    "}"
   ]
  },
  {
   "cell_type": "code",
   "execution_count": null,
   "id": "aa440b86-7742-4c05-bb7d-cbaeaff3542d",
   "metadata": {},
   "outputs": [],
   "source": [
    "#Execute function calls and append results\n",
    "for tool_call in completion.choices[0].message.tool_calls:\n",
    "    name = tool_call.function.name\n",
    "    args = json.loads(tool_call.function.arguments)\n",
    "\n",
    "    result = call_function(name, args)\n",
    "    messages.append({\n",
    "        \"role\": \"tool\",\n",
    "        \"tool_call_id\": tool_call.id,\n",
    "        \"content\": result\n",
    "    })"
   ]
  },
  {
   "cell_type": "code",
   "execution_count": null,
   "id": "77c89d53-43fe-44b6-95a8-f57a51c7e4d1",
   "metadata": {},
   "outputs": [],
   "source": [
    "#Execute function calls and append results\n",
    "def call_function(name, args):\n",
    "    if name == \"get_weather\":\n",
    "        return get_weather(**args)\n",
    "    if name == \"send_email\":\n",
    "        return send_email(**args)"
   ]
  },
  {
   "cell_type": "markdown",
   "id": "b1d0c885-0c0e-45b8-9121-2e556f488c85",
   "metadata": {},
   "source": [
    "### Tool choice\n",
    "By default the model will determine when and how many tools to use. You can force specific behavior with the tool_choice parameter.\n",
    "\n",
    "- __Auto:__ (Default) Call zero, one, or multiple functions. tool_choice: \"auto\"\n",
    "- __Required:__ Call one or more functions. tool_choice: \"required\"\n",
    "- __Forced Function:__ Call exactly one specific function. tool_choice: {\"type\": \"function\", \"function\": {\"name\": \"get_weather\"}}"
   ]
  },
  {
   "cell_type": "markdown",
   "id": "2f41bb1a-44e2-445c-a7c5-201766a814e5",
   "metadata": {},
   "source": [
    "### Streaming\n",
    "Streaming can be used to surface progress by showing which function is called as the model fills its arguments, and even displaying the arguments in real time.\n",
    "\n",
    "Streaming function calls is very similar to streaming regular responses: you set stream to true and get chunks with delta objects."
   ]
  },
  {
   "cell_type": "code",
   "execution_count": null,
   "id": "c889828b-6bc4-4a44-819e-3c4b822c8bd0",
   "metadata": {},
   "outputs": [],
   "source": [
    "#Streaming function calls\n",
    "from openai import OpenAI\n",
    "\n",
    "client = OpenAI()\n",
    "\n",
    "tools = [{\n",
    "    \"type\": \"function\",\n",
    "    \"function\": {\n",
    "        \"name\": \"get_weather\",\n",
    "        \"description\": \"Get current temperature for a given location.\",\n",
    "        \"parameters\": {\n",
    "            \"type\": \"object\",\n",
    "            \"properties\": {\n",
    "                \"location\": {\n",
    "                    \"type\": \"string\",\n",
    "                    \"description\": \"City and country e.g. Bogotá, Colombia\"\n",
    "                }\n",
    "            },\n",
    "            \"required\": [\"location\"],\n",
    "            \"additionalProperties\": False\n",
    "        },\n",
    "        \"strict\": True\n",
    "    }\n",
    "}]\n",
    "\n",
    "stream = client.chat.completions.create(\n",
    "    model=\"gpt-4o\",\n",
    "    messages=[{\"role\": \"user\", \"content\": \"What's the weather like in Paris today?\"}],\n",
    "    tools=tools,\n",
    "    stream=True\n",
    ")\n",
    "\n",
    "for chunk in stream:\n",
    "    delta = chunk.choices[0].delta\n",
    "    print(delta.tool_calls)"
   ]
  },
  {
   "cell_type": "code",
   "execution_count": null,
   "id": "c8982a50-4c8e-44cd-a6f2-e5481f85f633",
   "metadata": {},
   "outputs": [],
   "source": [
    "[{\"index\": 0, \"id\": \"call_DdmO9pD3xa9XTPNJ32zg2hcA\", \"function\": {\"arguments\": \"\", \"name\": \"get_weather\"}, \"type\": \"function\"}]\n",
    "[{\"index\": 0, \"id\": null, \"function\": {\"arguments\": \"{\\\"\", \"name\": null}, \"type\": null}]\n",
    "[{\"index\": 0, \"id\": null, \"function\": {\"arguments\": \"location\", \"name\": null}, \"type\": null}]\n",
    "[{\"index\": 0, \"id\": null, \"function\": {\"arguments\": \"\\\":\\\"\", \"name\": null}, \"type\": null}]\n",
    "[{\"index\": 0, \"id\": null, \"function\": {\"arguments\": \"Paris\", \"name\": null}, \"type\": null}]\n",
    "[{\"index\": 0, \"id\": null, \"function\": {\"arguments\": \",\", \"name\": null}, \"type\": null}]\n",
    "[{\"index\": 0, \"id\": null, \"function\": {\"arguments\": \" France\", \"name\": null}, \"type\": null}]\n",
    "[{\"index\": 0, \"id\": null, \"function\": {\"arguments\": \"\\\"}\", \"name\": null}, \"type\": null}]\n",
    "null"
   ]
  },
  {
   "cell_type": "markdown",
   "id": "5dfc812b-82b9-4845-8048-c62601acb0a0",
   "metadata": {},
   "source": [
    "Below is a code snippet demonstrating how to aggregate the deltas into a final tool_calls object"
   ]
  },
  {
   "cell_type": "code",
   "execution_count": null,
   "id": "bf91d00d-dbbe-492d-a42b-f2c9043e9d88",
   "metadata": {},
   "outputs": [],
   "source": [
    "#Accumulating tool_call deltas\n",
    "final_tool_calls = {}\n",
    "for chunk in stream:\n",
    "    for tool_call in chunk.choices[0].delta.tool_calls or []:\n",
    "        index = tool_call.index\n",
    "\n",
    "        if index not in final_tool_calls:\n",
    "            final_tool_calls[index] = tool_call\n",
    "        final_tool_calls[index].function.arguments += tool_call.function.arguments"
   ]
  },
  {
   "cell_type": "code",
   "execution_count": null,
   "id": "96d29fe4-e5e1-448f-a596-b0d995b85334",
   "metadata": {},
   "outputs": [],
   "source": [
    "{\n",
    "    \"index\": 0,\n",
    "    \"id\": \"call_RzfkBpJgzeR0S242qfvjadNe\",\n",
    "    \"function\": {\n",
    "        \"name\": \"get_weather\",\n",
    "        \"arguments\": \"{\\\"location\\\":\\\"Paris, France\\\"}\"\n",
    "    }\n",
    "}"
   ]
  }
 ],
 "metadata": {
  "kernelspec": {
   "display_name": "Python 3 (ipykernel)",
   "language": "python",
   "name": "python3"
  },
  "language_info": {
   "codemirror_mode": {
    "name": "ipython",
    "version": 3
   },
   "file_extension": ".py",
   "mimetype": "text/x-python",
   "name": "python",
   "nbconvert_exporter": "python",
   "pygments_lexer": "ipython3",
   "version": "3.12.9"
  }
 },
 "nbformat": 4,
 "nbformat_minor": 5
}
